{
 "cells": [
  {
   "cell_type": "code",
   "execution_count": 4,
   "metadata": {
    "collapsed": false
   },
   "outputs": [],
   "source": [
    "%matplotlib inline\n",
    "import pickle\n",
    "import tensorflow as tf\n",
    "import gpflow\n",
    "import numpy as np\n",
    "\n",
    "from multi_spectralmixture import MultiSpectralMixture as MOSM\n",
    "import matplotlib.pyplot as plt\n",
    "from matplotlib import cm\n",
    "import seaborn \n",
    "\n",
    "seaborn.set(style=\"white\", color_codes=True)\n",
    "\n",
    "#Generate sample data\n",
    "N_sample = 100\n",
    "X_sample = np.linspace(-5, 5, N_sample)\n",
    "Y1_sample = np.sin(X_sample) + np.random.randn(N_sample)\n",
    "Y2_sample = np.cos(X_sample) + np.random.randn(N_sample)\n",
    "\n",
    "#\n",
    "X_obs = np.vstack([np.column_stack([np.zeros_like(Y1_sample), X_sample]), \n",
    "                  np.column_stack([np.ones_like(Y2_sample), X_sample])])\n",
    "Y_obs = np.hstack([Y1_sample, Y2_sample])[:, None]"
   ]
  },
  {
   "cell_type": "code",
   "execution_count": 10,
   "metadata": {
    "collapsed": false
   },
   "outputs": [],
   "source": [
    "INPUT_DIM = 1\n",
    "N_OUTPUTS = 2\n",
    "#weights_init = np.ones(N_OUTPUTS)\n",
    "#means_init = 0.5 * np.ones(N_OUTPUTS)[None, :]\n",
    "#var_init = np.ones(N_OUTPUTS)[None, :]\n",
    "#delay_init = np.zeros(N_OUTPUTS)[None, :]\n",
    "#phase_init = np.zeros(N_OUTPUTS)\n",
    "\n",
    "#kern = MOSM(1, N_OUTPUTS, weights_init, \n",
    "#            means_init, var_init, \n",
    "#            delay_init, phase_init)\n",
    "\n",
    "\n",
    "#For more spectral components, just sum kernels\n",
    "kern = MOSM(INPUT_DIM, N_OUTPUTS) + MOSM(INPUT_DIM, N_OUTPUTS)\n",
    "\n",
    "model = gpflow.models.GPR(X_obs, Y_obs, kern)\n",
    "model.likelihood.variance = 0.5"
   ]
  },
  {
   "cell_type": "code",
   "execution_count": 11,
   "metadata": {
    "collapsed": false
   },
   "outputs": [
    {
     "name": "stdout",
     "output_type": "stream",
     "text": [
      "INFO:tensorflow:Optimization terminated with:\n",
      "  Message: b'CONVERGENCE: REL_REDUCTION_OF_F_<=_FACTR*EPSMCH'\n",
      "  Objective function value: 291.215179\n",
      "  Number of iterations: 55\n",
      "  Number of functions evaluations: 66\n"
     ]
    }
   ],
   "source": [
    "gpflow.train.ScipyOptimizer().minimize(model, disp=True, maxiter=500)"
   ]
  },
  {
   "cell_type": "code",
   "execution_count": 20,
   "metadata": {
    "collapsed": false
   },
   "outputs": [
    {
     "data": {
      "text/plain": [
       "[<matplotlib.lines.Line2D at 0x7f7853000c18>]"
      ]
     },
     "execution_count": 20,
     "metadata": {},
     "output_type": "execute_result"
    },
    {
     "data": {
      "image/png": "[encoded data removed]",
      "text/plain": [
       "<matplotlib.figure.Figure at 0x7f78531e2cf8>"
      ]
     },
     "metadata": {},
     "output_type": "display_data"
    }
   ],
   "source": [
    "Y_star, STD_star = model.predict_f(X_obs)  #predict at inputs given by X_obs\n",
    "\n",
    "fig, axes = plt.subplots(1, 2, figsize=(10,4), sharey=True)\n",
    "axes[0].plot(X_sample, Y1_sample, 'r.')\n",
    "axes[0].plot(X_sample, Y_star[0:N_sample], 'b-', lw=3)\n",
    "#axes[0].fill_between(X_sample, (Y_star[0:N_sample]-2*STD_star[0:N_sample]).reshape([-1]), \n",
    "#                     (Y_star[0:N_sample]+2*STD_star[0:N_sample]).reshape([-1]), alpha=0.2) \n",
    "\n",
    "axes[1].plot(X_sample, Y2_sample, 'r.')\n",
    "axes[1].plot(X_sample, Y_star[N_sample:], 'k-', lw=3)"
   ]
  },
  {
   "cell_type": "code",
   "execution_count": 21,
   "metadata": {
    "collapsed": false
   },
   "outputs": [
    {
     "name": "stdout",
     "output_type": "stream",
     "text": [
      "<Parameter name:\u001b[1mGPR/kern/multispectralmixture_1/constant\u001b[0m [trainable] shape:(2,) transform:(none) prior:None>\n",
      "value: [ -3.84687566e-05,  -7.03369030e-06]\n",
      "\n",
      "<Parameter name:\u001b[1mGPR/kern/multispectralmixture_1/mean\u001b[0m [trainable] shape:(1, 2) transform:(none) prior:None>\n",
      "value: [[ 1.46429348,  0.76948389]]\n",
      "\n",
      "<Parameter name:\u001b[1mGPR/kern/multispectralmixture_1/variance\u001b[0m [trainable] shape:(1, 2) transform:+ve prior:None>\n",
      "value: [[ 0.68896741,  0.67867252]]\n",
      "\n",
      "<Parameter name:\u001b[1mGPR/kern/multispectralmixture_1/delay\u001b[0m [trainable] shape:(1, 2) transform:PartiallyFixed prior:None>\n",
      "value: [[ 0.        ,  0.66747368]]\n",
      "\n",
      "<Parameter name:\u001b[1mGPR/kern/multispectralmixture_1/phase\u001b[0m [trainable] shape:(2,) transform:PartiallyFixed prior:None>\n",
      "value: [ 0.        , -0.18560597]\n",
      "\n",
      "<Parameter name:\u001b[1mGPR/kern/multispectralmixture_2/constant\u001b[0m [trainable] shape:(2,) transform:(none) prior:None>\n",
      "value: [-1.07452501,  1.1206527 ]\n",
      "\n",
      "<Parameter name:\u001b[1mGPR/kern/multispectralmixture_2/mean\u001b[0m [trainable] shape:(1, 2) transform:(none) prior:None>\n",
      "value: [[ 0.95653384,  0.83994852]]\n",
      "\n",
      "<Parameter name:\u001b[1mGPR/kern/multispectralmixture_2/variance\u001b[0m [trainable] shape:(1, 2) transform:+ve prior:None>\n",
      "value: [[ 0.11350171,  0.11070774]]\n",
      "\n",
      "<Parameter name:\u001b[1mGPR/kern/multispectralmixture_2/delay\u001b[0m [trainable] shape:(1, 2) transform:PartiallyFixed prior:None>\n",
      "value: [[ 0.        , -1.00649822]]\n",
      "\n",
      "<Parameter name:\u001b[1mGPR/kern/multispectralmixture_2/phase\u001b[0m [trainable] shape:(2,) transform:PartiallyFixed prior:None>\n",
      "value: [ 0.        , -0.29758226]\n",
      "\n",
      "<Parameter name:\u001b[1mGPR/likelihood/variance\u001b[0m [trainable] shape:() transform:+ve prior:None>\n",
      "value: 0.9600130575476074\n"
     ]
    }
   ],
   "source": [
    "print(model)"
   ]
  },
  {
   "cell_type": "code",
   "execution_count": null,
   "metadata": {
    "collapsed": false
   },
   "outputs": [],
   "source": []
  }
 ],
 "metadata": {
  "anaconda-cloud": {},
  "kernelspec": {
   "display_name": "Python [conda env:gpflow1.0]",
   "language": "python",
   "name": "conda-env-gpflow1.0-py"
  },
  "language_info": {
   "codemirror_mode": {
    "name": "ipython",
    "version": 3
   },
   "file_extension": ".py",
   "mimetype": "text/x-python",
   "name": "python",
   "nbconvert_exporter": "python",
   "pygments_lexer": "ipython3",
   "version": "3.6.2"
  }
 },
 "nbformat": 4,
 "nbformat_minor": 1
}
